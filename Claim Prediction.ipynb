{
 "cells": [
  {
   "cell_type": "code",
   "execution_count": 1,
   "metadata": {},
   "outputs": [],
   "source": [
    "\"\"\"\n",
    "*****************************************************************************\n",
    "Load needed package and libraries \n",
    "*****************************************************************************\n",
    "\"\"\"\n",
    "\n",
    "import pandas as pd\n",
    "import numpy as np\n",
    "from sklearn.model_selection import train_test_split\n",
    "from sklearn.linear_model import LinearRegression\n",
    "from sklearn import metrics\n",
    "from sklearn import preprocessing\n"
   ]
  },
  {
   "cell_type": "code",
   "execution_count": 3,
   "metadata": {},
   "outputs": [],
   "source": [
    "\"\"\"\n",
    "*****************************************************************************\n",
    "Load Data and get its detail\n",
    "*****************************************************************************\n",
    "\"\"\"\n",
    "# Training data \n",
    "train_data = pd.read_csv('D:\\ML Projects\\Allstate Clims Severity\\\\train.csv')\n",
    "# Test data and submission data\n",
    "test_data = pd.read_csv('D:\\ML Projects\\Allstate Clims Severity\\\\test.csv')\n",
    "submission = pd.read_csv('D:\\ML Projects\\Allstate Clims Severity\\\\sample_submission.csv')\n"
   ]
  },
  {
   "cell_type": "code",
   "execution_count": 4,
   "metadata": {},
   "outputs": [],
   "source": [
    "\"\"\"\n",
    "****************************************************************************\n",
    "Analyse and encode the categorical variable\n",
    "**************************************************************************\n",
    "\"\"\"\n",
    "# Define the label encoder\n",
    "label_encoder = preprocessing.LabelEncoder()\n",
    "\n",
    "list_col = list(train_data)\n",
    "list_col = list_col[1:117]\n",
    "\n",
    "for i in list_col:\n",
    "    n = len(train_data[i].unique())\n",
    "# Label encoding for the training data\n",
    "    if n>4:\n",
    "        train_data[i]= label_encoder.fit_transform(train_data[i])\n",
    "# One hot encoding for the trining data\n",
    "    if n<5:\n",
    "        dummies = pd.get_dummies(train_data[i],prefix = i)\n",
    "        train_data.drop(i, inplace = True,axis=1)\n",
    "        train_data = pd.concat([train_data, dummies], axis=1)"
   ]
  },
  {
   "cell_type": "code",
   "execution_count": 5,
   "metadata": {},
   "outputs": [
    {
     "name": "stdout",
     "output_type": "stream",
     "text": [
      "MAE: 1330.0667042093403\n",
      "RMSE: 2163.219091112455\n"
     ]
    }
   ],
   "source": [
    "\"\"\"\n",
    "****************************************************************************\n",
    "Create a ML model to predict the insurance claim amount\n",
    "****************************************************************************\n",
    "\"\"\"\n",
    "# List of all features except the prediction feature 'LOSS'\n",
    "list_col = list(train_data)\n",
    "list_col.remove('loss')\n",
    "\n",
    "X = train_data[list_col]\n",
    "y = train_data['loss']\n",
    "\n",
    "#Test Train data split\n",
    "X_train, X_test, y_train, y_test = train_test_split(X, y, test_size=0.3, random_state=101)\n",
    "\n",
    "# Creating new model and fit the model with the data\n",
    "model = LinearRegression()\n",
    "model.fit(X_train,y_train)\n",
    "\n",
    "predict = model.predict(X_test)\n",
    "\n",
    "# Value of Mean absolute error and root mean square error\n",
    "print('MAE: {}'.format(metrics.mean_absolute_error(y_test, predict)))\n",
    "print('RMSE: {}'.format(np.sqrt(metrics.mean_squared_error(y_test, predict))))\n"
   ]
  },
  {
   "cell_type": "code",
   "execution_count": 6,
   "metadata": {},
   "outputs": [],
   "source": [
    "\"\"\"\n",
    "****************************************************************************\n",
    "Process the test data\n",
    "****************************************************************************\n",
    "\"\"\"\n",
    "list_colt = list(test_data)\n",
    "list_colt = list_colt[1:117]\n",
    "\n",
    "for i in list_colt:\n",
    "    n = len(test_data[i].unique())\n",
    "# Label encoding for the test data\n",
    "    if n>4:\n",
    "        test_data[i]= label_encoder.fit_transform(test_data[i])\n",
    "# one hot encoding for the test data\n",
    "    if n<5:\n",
    "        dummies = pd.get_dummies(test_data[i],prefix = i)\n",
    "        test_data.drop(i, inplace = True,axis=1)\n",
    "        test_data = pd.concat([test_data, dummies], axis=1)\n",
    "        \n"
   ]
  },
  {
   "cell_type": "code",
   "execution_count": 7,
   "metadata": {},
   "outputs": [],
   "source": [
    "\"\"\"\n",
    "****************************************************************************\n",
    "Test value prediction\n",
    "****************************************************************************\n",
    "\"\"\"\n",
    "list_colt = list(test_data)\n",
    "# Test data\n",
    "X_t = test_data[list_colt]\n",
    "# Predicting claim amount for the test data\n",
    "submission['loss'] = model.predict(X_t)\n",
    "# Exporting the result in csv format\n",
    "submission.to_csv('result.csv',mode = 'w', index=False)"
   ]
  },
  {
   "cell_type": "code",
   "execution_count": null,
   "metadata": {},
   "outputs": [],
   "source": []
  }
 ],
 "metadata": {
  "kernelspec": {
   "display_name": "Python 3",
   "language": "python",
   "name": "python3"
  },
  "language_info": {
   "codemirror_mode": {
    "name": "ipython",
    "version": 3
   },
   "file_extension": ".py",
   "mimetype": "text/x-python",
   "name": "python",
   "nbconvert_exporter": "python",
   "pygments_lexer": "ipython3",
   "version": "3.7.6"
  }
 },
 "nbformat": 4,
 "nbformat_minor": 4
}
